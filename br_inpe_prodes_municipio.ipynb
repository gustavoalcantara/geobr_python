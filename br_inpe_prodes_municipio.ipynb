{
  "nbformat": 4,
  "nbformat_minor": 0,
  "metadata": {
    "colab": {
      "provenance": [],
      "authorship_tag": "ABX9TyOI65t7EB+/op9/0Kdpanv0",
      "include_colab_link": true
    },
    "kernelspec": {
      "name": "python3",
      "display_name": "Python 3"
    },
    "language_info": {
      "name": "python"
    }
  },
  "cells": [
    {
      "cell_type": "markdown",
      "metadata": {
        "id": "view-in-github",
        "colab_type": "text"
      },
      "source": [
        "<a href=\"https://colab.research.google.com/github/gustavoalcantara/geobr_python/blob/main/br_inpe_prodes_municipio.ipynb\" target=\"_parent\"><img src=\"https://colab.research.google.com/assets/colab-badge.svg\" alt=\"Open In Colab\"/></a>"
      ]
    },
    {
      "cell_type": "code",
      "execution_count": null,
      "metadata": {
        "id": "3iADwVoVyoYf"
      },
      "outputs": [],
      "source": [
        "import pandas as pd\n",
        "import numpy as np\n",
        "import os"
      ]
    },
    {
      "cell_type": "code",
      "source": [
        "# criando uma lista\n",
        "y = pd.read_csv('desmatamento_2021.txt', sep='\\t')\n",
        "x = pd.read_csv('desmatamento_all.txt', sep='\\t')"
      ],
      "metadata": {
        "id": "LACO8WNPy0vZ"
      },
      "execution_count": null,
      "outputs": []
    },
    {
      "cell_type": "code",
      "source": [
        "#saude['code_state'] = saude['code_state'].astype(np.int64)\n",
        "y['ano'] = y['ano'].astype(np.int64)\n",
        "y['id_municipio'] = y['id_municipio'].astype(np.int64)\n",
        "x['ano'] = x['ano'].astype(np.int64)\n",
        "x['id_municipio'] = x['id_municipio'].astype(np.int64)\n"
      ],
      "metadata": {
        "id": "LHqVASYBKGWS"
      },
      "execution_count": null,
      "outputs": []
    },
    {
      "cell_type": "code",
      "source": [
        "x=x.append(y)"
      ],
      "metadata": {
        "id": "PfFFEet5Er4S"
      },
      "execution_count": null,
      "outputs": []
    },
    {
      "cell_type": "code",
      "source": [
        "x=x.sort_values(['id_municipio', 'ano'])"
      ],
      "metadata": {
        "id": "K8O1ZB7wJJYB"
      },
      "execution_count": null,
      "outputs": []
    },
    {
      "cell_type": "code",
      "source": [
        "print(x)"
      ],
      "metadata": {
        "colab": {
          "base_uri": "https://localhost:8080/"
        },
        "id": "q-TGxWtYHNEx",
        "outputId": "a538c275-7f42-4fe2-9e2d-77fd8e8ace0c"
      },
      "execution_count": null,
      "outputs": [
        {
          "output_type": "stream",
          "name": "stdout",
          "text": [
            "        ano  id_municipio  area  desmatado  incremento  floresta  nuvem  \\\n",
            "0      2000       1100015  7137     1761.1         NaN    3639.6    0.0   \n",
            "1      2001       1100015  7137     1834.2        73.1    3566.5    0.0   \n",
            "2      2002       1100015  7137     1948.9       114.7    3451.8    0.0   \n",
            "3      2003       1100015  7137     2014.9        66.0    3385.8    0.0   \n",
            "4      2004       1100015  7137     2092.0        77.1    3308.7    0.0   \n",
            "...     ...           ...   ...        ...         ...       ...    ...   \n",
            "15956  2017       5108956  5277     2414.3        21.0    2843.1    0.0   \n",
            "15957  2018       5108956  5277     2428.2        17.3    2829.2    0.0   \n",
            "15958  2019       5108956  5277     2468.2        40.0    2789.2    0.0   \n",
            "15959  2020       5108956  5277     2491.2        23.0    2766.2    0.0   \n",
            "93     2021       5108956  5277     2532.9        41.7    2724.5    0.0   \n",
            "\n",
            "       nao_observado  nao_floresta  hidrografia  \n",
            "0                6.1        1708.0         22.2  \n",
            "1                6.1        1708.0         22.2  \n",
            "2                6.1        1708.0         22.2  \n",
            "3                6.1        1708.0         22.2  \n",
            "4                6.1        1708.0         22.2  \n",
            "...              ...           ...          ...  \n",
            "15956            0.0          12.9          6.7  \n",
            "15957            0.0          12.9          6.7  \n",
            "15958            0.0          12.9          6.7  \n",
            "15959            0.0          12.9          6.7  \n",
            "93               0.0          12.9          6.7  \n",
            "\n",
            "[16720 rows x 10 columns]\n"
          ]
        }
      ]
    },
    {
      "cell_type": "code",
      "source": [
        "#mesorregiao.to_csv('mesorregiao.csv', sep=',', index=False, header=True)\n",
        "x.to_csv('desmatamento_municipio.csv', sep=',', index=False, header=True)"
      ],
      "metadata": {
        "id": "wnA0TfXRHUnR"
      },
      "execution_count": null,
      "outputs": []
    },
    {
      "cell_type": "code",
      "source": [
        "x = pd.read_csv('desmatamento_municipio.csv', sep=',')"
      ],
      "metadata": {
        "id": "vM39X3LnCuqV"
      },
      "execution_count": null,
      "outputs": []
    },
    {
      "cell_type": "code",
      "source": [
        "x"
      ],
      "metadata": {
        "colab": {
          "base_uri": "https://localhost:8080/",
          "height": 488
        },
        "id": "_vLxvHMsENV8",
        "outputId": "9f0988f4-3812-4762-9130-28604dd49065"
      },
      "execution_count": null,
      "outputs": [
        {
          "output_type": "execute_result",
          "data": {
            "text/plain": [
              "        ano  id_municipio  area  desmatado  incremento  floresta  nuvem  \\\n",
              "0      2000       1100015  7137     1761.1         NaN    3639.6    0.0   \n",
              "1      2001       1100015  7137     1834.2        73.1    3566.5    0.0   \n",
              "2      2002       1100015  7137     1948.9       114.7    3451.8    0.0   \n",
              "3      2003       1100015  7137     2014.9        66.0    3385.8    0.0   \n",
              "4      2004       1100015  7137     2092.0        77.1    3308.7    0.0   \n",
              "...     ...           ...   ...        ...         ...       ...    ...   \n",
              "16715  2017       5108956  5277     2414.3        21.0    2843.1    0.0   \n",
              "16716  2018       5108956  5277     2428.2        17.3    2829.2    0.0   \n",
              "16717  2019       5108956  5277     2468.2        40.0    2789.2    0.0   \n",
              "16718  2020       5108956  5277     2491.2        23.0    2766.2    0.0   \n",
              "16719  2021       5108956  5277     2532.9        41.7    2724.5    0.0   \n",
              "\n",
              "       nao_observado  nao_floresta  hidrografia  \n",
              "0                6.1        1708.0         22.2  \n",
              "1                6.1        1708.0         22.2  \n",
              "2                6.1        1708.0         22.2  \n",
              "3                6.1        1708.0         22.2  \n",
              "4                6.1        1708.0         22.2  \n",
              "...              ...           ...          ...  \n",
              "16715            0.0          12.9          6.7  \n",
              "16716            0.0          12.9          6.7  \n",
              "16717            0.0          12.9          6.7  \n",
              "16718            0.0          12.9          6.7  \n",
              "16719            0.0          12.9          6.7  \n",
              "\n",
              "[16720 rows x 10 columns]"
            ],
            "text/html": [
              "\n",
              "  <div id=\"df-cbe424af-63a8-49b2-92e9-0148954820a8\">\n",
              "    <div class=\"colab-df-container\">\n",
              "      <div>\n",
              "<style scoped>\n",
              "    .dataframe tbody tr th:only-of-type {\n",
              "        vertical-align: middle;\n",
              "    }\n",
              "\n",
              "    .dataframe tbody tr th {\n",
              "        vertical-align: top;\n",
              "    }\n",
              "\n",
              "    .dataframe thead th {\n",
              "        text-align: right;\n",
              "    }\n",
              "</style>\n",
              "<table border=\"1\" class=\"dataframe\">\n",
              "  <thead>\n",
              "    <tr style=\"text-align: right;\">\n",
              "      <th></th>\n",
              "      <th>ano</th>\n",
              "      <th>id_municipio</th>\n",
              "      <th>area</th>\n",
              "      <th>desmatado</th>\n",
              "      <th>incremento</th>\n",
              "      <th>floresta</th>\n",
              "      <th>nuvem</th>\n",
              "      <th>nao_observado</th>\n",
              "      <th>nao_floresta</th>\n",
              "      <th>hidrografia</th>\n",
              "    </tr>\n",
              "  </thead>\n",
              "  <tbody>\n",
              "    <tr>\n",
              "      <th>0</th>\n",
              "      <td>2000</td>\n",
              "      <td>1100015</td>\n",
              "      <td>7137</td>\n",
              "      <td>1761.1</td>\n",
              "      <td>NaN</td>\n",
              "      <td>3639.6</td>\n",
              "      <td>0.0</td>\n",
              "      <td>6.1</td>\n",
              "      <td>1708.0</td>\n",
              "      <td>22.2</td>\n",
              "    </tr>\n",
              "    <tr>\n",
              "      <th>1</th>\n",
              "      <td>2001</td>\n",
              "      <td>1100015</td>\n",
              "      <td>7137</td>\n",
              "      <td>1834.2</td>\n",
              "      <td>73.1</td>\n",
              "      <td>3566.5</td>\n",
              "      <td>0.0</td>\n",
              "      <td>6.1</td>\n",
              "      <td>1708.0</td>\n",
              "      <td>22.2</td>\n",
              "    </tr>\n",
              "    <tr>\n",
              "      <th>2</th>\n",
              "      <td>2002</td>\n",
              "      <td>1100015</td>\n",
              "      <td>7137</td>\n",
              "      <td>1948.9</td>\n",
              "      <td>114.7</td>\n",
              "      <td>3451.8</td>\n",
              "      <td>0.0</td>\n",
              "      <td>6.1</td>\n",
              "      <td>1708.0</td>\n",
              "      <td>22.2</td>\n",
              "    </tr>\n",
              "    <tr>\n",
              "      <th>3</th>\n",
              "      <td>2003</td>\n",
              "      <td>1100015</td>\n",
              "      <td>7137</td>\n",
              "      <td>2014.9</td>\n",
              "      <td>66.0</td>\n",
              "      <td>3385.8</td>\n",
              "      <td>0.0</td>\n",
              "      <td>6.1</td>\n",
              "      <td>1708.0</td>\n",
              "      <td>22.2</td>\n",
              "    </tr>\n",
              "    <tr>\n",
              "      <th>4</th>\n",
              "      <td>2004</td>\n",
              "      <td>1100015</td>\n",
              "      <td>7137</td>\n",
              "      <td>2092.0</td>\n",
              "      <td>77.1</td>\n",
              "      <td>3308.7</td>\n",
              "      <td>0.0</td>\n",
              "      <td>6.1</td>\n",
              "      <td>1708.0</td>\n",
              "      <td>22.2</td>\n",
              "    </tr>\n",
              "    <tr>\n",
              "      <th>...</th>\n",
              "      <td>...</td>\n",
              "      <td>...</td>\n",
              "      <td>...</td>\n",
              "      <td>...</td>\n",
              "      <td>...</td>\n",
              "      <td>...</td>\n",
              "      <td>...</td>\n",
              "      <td>...</td>\n",
              "      <td>...</td>\n",
              "      <td>...</td>\n",
              "    </tr>\n",
              "    <tr>\n",
              "      <th>16715</th>\n",
              "      <td>2017</td>\n",
              "      <td>5108956</td>\n",
              "      <td>5277</td>\n",
              "      <td>2414.3</td>\n",
              "      <td>21.0</td>\n",
              "      <td>2843.1</td>\n",
              "      <td>0.0</td>\n",
              "      <td>0.0</td>\n",
              "      <td>12.9</td>\n",
              "      <td>6.7</td>\n",
              "    </tr>\n",
              "    <tr>\n",
              "      <th>16716</th>\n",
              "      <td>2018</td>\n",
              "      <td>5108956</td>\n",
              "      <td>5277</td>\n",
              "      <td>2428.2</td>\n",
              "      <td>17.3</td>\n",
              "      <td>2829.2</td>\n",
              "      <td>0.0</td>\n",
              "      <td>0.0</td>\n",
              "      <td>12.9</td>\n",
              "      <td>6.7</td>\n",
              "    </tr>\n",
              "    <tr>\n",
              "      <th>16717</th>\n",
              "      <td>2019</td>\n",
              "      <td>5108956</td>\n",
              "      <td>5277</td>\n",
              "      <td>2468.2</td>\n",
              "      <td>40.0</td>\n",
              "      <td>2789.2</td>\n",
              "      <td>0.0</td>\n",
              "      <td>0.0</td>\n",
              "      <td>12.9</td>\n",
              "      <td>6.7</td>\n",
              "    </tr>\n",
              "    <tr>\n",
              "      <th>16718</th>\n",
              "      <td>2020</td>\n",
              "      <td>5108956</td>\n",
              "      <td>5277</td>\n",
              "      <td>2491.2</td>\n",
              "      <td>23.0</td>\n",
              "      <td>2766.2</td>\n",
              "      <td>0.0</td>\n",
              "      <td>0.0</td>\n",
              "      <td>12.9</td>\n",
              "      <td>6.7</td>\n",
              "    </tr>\n",
              "    <tr>\n",
              "      <th>16719</th>\n",
              "      <td>2021</td>\n",
              "      <td>5108956</td>\n",
              "      <td>5277</td>\n",
              "      <td>2532.9</td>\n",
              "      <td>41.7</td>\n",
              "      <td>2724.5</td>\n",
              "      <td>0.0</td>\n",
              "      <td>0.0</td>\n",
              "      <td>12.9</td>\n",
              "      <td>6.7</td>\n",
              "    </tr>\n",
              "  </tbody>\n",
              "</table>\n",
              "<p>16720 rows × 10 columns</p>\n",
              "</div>\n",
              "      <button class=\"colab-df-convert\" onclick=\"convertToInteractive('df-cbe424af-63a8-49b2-92e9-0148954820a8')\"\n",
              "              title=\"Convert this dataframe to an interactive table.\"\n",
              "              style=\"display:none;\">\n",
              "        \n",
              "  <svg xmlns=\"http://www.w3.org/2000/svg\" height=\"24px\"viewBox=\"0 0 24 24\"\n",
              "       width=\"24px\">\n",
              "    <path d=\"M0 0h24v24H0V0z\" fill=\"none\"/>\n",
              "    <path d=\"M18.56 5.44l.94 2.06.94-2.06 2.06-.94-2.06-.94-.94-2.06-.94 2.06-2.06.94zm-11 1L8.5 8.5l.94-2.06 2.06-.94-2.06-.94L8.5 2.5l-.94 2.06-2.06.94zm10 10l.94 2.06.94-2.06 2.06-.94-2.06-.94-.94-2.06-.94 2.06-2.06.94z\"/><path d=\"M17.41 7.96l-1.37-1.37c-.4-.4-.92-.59-1.43-.59-.52 0-1.04.2-1.43.59L10.3 9.45l-7.72 7.72c-.78.78-.78 2.05 0 2.83L4 21.41c.39.39.9.59 1.41.59.51 0 1.02-.2 1.41-.59l7.78-7.78 2.81-2.81c.8-.78.8-2.07 0-2.86zM5.41 20L4 18.59l7.72-7.72 1.47 1.35L5.41 20z\"/>\n",
              "  </svg>\n",
              "      </button>\n",
              "      \n",
              "  <style>\n",
              "    .colab-df-container {\n",
              "      display:flex;\n",
              "      flex-wrap:wrap;\n",
              "      gap: 12px;\n",
              "    }\n",
              "\n",
              "    .colab-df-convert {\n",
              "      background-color: #E8F0FE;\n",
              "      border: none;\n",
              "      border-radius: 50%;\n",
              "      cursor: pointer;\n",
              "      display: none;\n",
              "      fill: #1967D2;\n",
              "      height: 32px;\n",
              "      padding: 0 0 0 0;\n",
              "      width: 32px;\n",
              "    }\n",
              "\n",
              "    .colab-df-convert:hover {\n",
              "      background-color: #E2EBFA;\n",
              "      box-shadow: 0px 1px 2px rgba(60, 64, 67, 0.3), 0px 1px 3px 1px rgba(60, 64, 67, 0.15);\n",
              "      fill: #174EA6;\n",
              "    }\n",
              "\n",
              "    [theme=dark] .colab-df-convert {\n",
              "      background-color: #3B4455;\n",
              "      fill: #D2E3FC;\n",
              "    }\n",
              "\n",
              "    [theme=dark] .colab-df-convert:hover {\n",
              "      background-color: #434B5C;\n",
              "      box-shadow: 0px 1px 3px 1px rgba(0, 0, 0, 0.15);\n",
              "      filter: drop-shadow(0px 1px 2px rgba(0, 0, 0, 0.3));\n",
              "      fill: #FFFFFF;\n",
              "    }\n",
              "  </style>\n",
              "\n",
              "      <script>\n",
              "        const buttonEl =\n",
              "          document.querySelector('#df-cbe424af-63a8-49b2-92e9-0148954820a8 button.colab-df-convert');\n",
              "        buttonEl.style.display =\n",
              "          google.colab.kernel.accessAllowed ? 'block' : 'none';\n",
              "\n",
              "        async function convertToInteractive(key) {\n",
              "          const element = document.querySelector('#df-cbe424af-63a8-49b2-92e9-0148954820a8');\n",
              "          const dataTable =\n",
              "            await google.colab.kernel.invokeFunction('convertToInteractive',\n",
              "                                                     [key], {});\n",
              "          if (!dataTable) return;\n",
              "\n",
              "          const docLinkHtml = 'Like what you see? Visit the ' +\n",
              "            '<a target=\"_blank\" href=https://colab.research.google.com/notebooks/data_table.ipynb>data table notebook</a>'\n",
              "            + ' to learn more about interactive tables.';\n",
              "          element.innerHTML = '';\n",
              "          dataTable['output_type'] = 'display_data';\n",
              "          await google.colab.output.renderOutput(dataTable, element);\n",
              "          const docLink = document.createElement('div');\n",
              "          docLink.innerHTML = docLinkHtml;\n",
              "          element.appendChild(docLink);\n",
              "        }\n",
              "      </script>\n",
              "    </div>\n",
              "  </div>\n",
              "  "
            ]
          },
          "metadata": {},
          "execution_count": 4
        }
      ]
    },
    {
      "cell_type": "code",
      "source": [
        "#for ano in [*range(2005, 2020)]:\n",
        "  for mes in [*range(1, 13)]:\n",
        "    particao = output + f'table_id/ano={ano}/mes={mes}'\n",
        "    if not os.path.exists(particao):\n",
        "      os.makedirs(particao)"
      ],
      "metadata": {
        "id": "Z_j2JtJmEQPv"
      },
      "execution_count": null,
      "outputs": []
    },
    {
      "cell_type": "code",
      "source": [
        "for ano in [*range(2000, 2022)]:\n",
        "  particao = f'desmatamento_municipio/ano={ano}'\n",
        "  if not os.path.exists(particao):\n",
        "    os.makedirs(particao)"
      ],
      "metadata": {
        "id": "8r0u4GznET3-"
      },
      "execution_count": null,
      "outputs": []
    },
    {
      "cell_type": "code",
      "source": [
        "#for ano in [*range(2005, 2020)]:\n",
        "  for mes in [*range(1, 13)]:\n",
        "    df_particao = df[df['ano'] == ano].copy() # O .copy não é necessário é apenas uma boa prática\n",
        "    df_particao = df_particao[df_particao['mes'] == mes]\n",
        "    df_particao.drop(['ano', 'mes'], axis=1, inplace=True) # É preciso excluir as colunas utilizadas para partição \n",
        "    particao = output + f'table_id/ano={ano}/mes={mes}/tabela.csv'\n",
        "    df_particao.to_csv(particao, index=False, encoding='utf-8', na_rep='')\n"
      ],
      "metadata": {
        "id": "cyqP2q56GBeE"
      },
      "execution_count": null,
      "outputs": []
    },
    {
      "cell_type": "code",
      "source": [
        "for ano in [*range(2000, 2022)]:\n",
        "  df_particao = x[x['ano']==ano].copy()\n",
        "  df_particao.drop(['ano'], axis=1, inplace=True)\n",
        "  particao = f'desmatamento_municipio/ano={ano}/desmatamento_municipio.csv'\n",
        "  df_particao.to_csv(particao, index=False, encoding = 'utf-8', na_rep='')"
      ],
      "metadata": {
        "id": "lz5EPRrgGDPi"
      },
      "execution_count": null,
      "outputs": []
    },
    {
      "cell_type": "code",
      "source": [],
      "metadata": {
        "id": "I8THUc9PHxqT"
      },
      "execution_count": null,
      "outputs": []
    }
  ]
}