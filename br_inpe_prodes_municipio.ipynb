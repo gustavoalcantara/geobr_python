{
  "nbformat": 4,
  "nbformat_minor": 0,
  "metadata": {
    "colab": {
      "provenance": [],
      "authorship_tag": "ABX9TyNqy6E+3o/yp/FYHtHjqQS0",
      "include_colab_link": true
    },
    "kernelspec": {
      "name": "python3",
      "display_name": "Python 3"
    },
    "language_info": {
      "name": "python"
    }
  },
  "cells": [
    {
      "cell_type": "markdown",
      "metadata": {
        "id": "view-in-github",
        "colab_type": "text"
      },
      "source": [
        "<a href=\"https://colab.research.google.com/github/gustavoalcantara/geobr_python/blob/main/br_inpe_prodes_municipio.ipynb\" target=\"_parent\"><img src=\"https://colab.research.google.com/assets/colab-badge.svg\" alt=\"Open In Colab\"/></a>"
      ]
    },
    {
      "cell_type": "code",
      "execution_count": 54,
      "metadata": {
        "id": "3iADwVoVyoYf"
      },
      "outputs": [],
      "source": [
        "import pandas as pd\n",
        "import numpy as np"
      ]
    },
    {
      "cell_type": "code",
      "source": [
        "# criando uma lista\n",
        "y = pd.read_csv('desmatamento_2021.txt', sep='\\t')\n",
        "x = pd.read_csv('desmatamento_all.txt', sep='\\t')"
      ],
      "metadata": {
        "id": "LACO8WNPy0vZ"
      },
      "execution_count": 67,
      "outputs": []
    },
    {
      "cell_type": "code",
      "source": [
        "#saude['code_state'] = saude['code_state'].astype(np.int64)\n",
        "y['ano'] = y['ano'].astype(np.int64)\n",
        "y['id_municipio'] = y['id_municipio'].astype(np.int64)\n",
        "x['ano'] = x['ano'].astype(np.int64)\n",
        "x['id_municipio'] = x['id_municipio'].astype(np.int64)\n"
      ],
      "metadata": {
        "id": "LHqVASYBKGWS"
      },
      "execution_count": 68,
      "outputs": []
    },
    {
      "cell_type": "code",
      "source": [
        "x=x.append(y)"
      ],
      "metadata": {
        "id": "PfFFEet5Er4S"
      },
      "execution_count": 69,
      "outputs": []
    },
    {
      "cell_type": "code",
      "source": [
        "x=x.sort_values(['id_municipio', 'ano'])"
      ],
      "metadata": {
        "id": "K8O1ZB7wJJYB"
      },
      "execution_count": 72,
      "outputs": []
    },
    {
      "cell_type": "code",
      "source": [
        "print(x)"
      ],
      "metadata": {
        "colab": {
          "base_uri": "https://localhost:8080/"
        },
        "id": "q-TGxWtYHNEx",
        "outputId": "a538c275-7f42-4fe2-9e2d-77fd8e8ace0c"
      },
      "execution_count": 73,
      "outputs": [
        {
          "output_type": "stream",
          "name": "stdout",
          "text": [
            "        ano  id_municipio  area  desmatado  incremento  floresta  nuvem  \\\n",
            "0      2000       1100015  7137     1761.1         NaN    3639.6    0.0   \n",
            "1      2001       1100015  7137     1834.2        73.1    3566.5    0.0   \n",
            "2      2002       1100015  7137     1948.9       114.7    3451.8    0.0   \n",
            "3      2003       1100015  7137     2014.9        66.0    3385.8    0.0   \n",
            "4      2004       1100015  7137     2092.0        77.1    3308.7    0.0   \n",
            "...     ...           ...   ...        ...         ...       ...    ...   \n",
            "15956  2017       5108956  5277     2414.3        21.0    2843.1    0.0   \n",
            "15957  2018       5108956  5277     2428.2        17.3    2829.2    0.0   \n",
            "15958  2019       5108956  5277     2468.2        40.0    2789.2    0.0   \n",
            "15959  2020       5108956  5277     2491.2        23.0    2766.2    0.0   \n",
            "93     2021       5108956  5277     2532.9        41.7    2724.5    0.0   \n",
            "\n",
            "       nao_observado  nao_floresta  hidrografia  \n",
            "0                6.1        1708.0         22.2  \n",
            "1                6.1        1708.0         22.2  \n",
            "2                6.1        1708.0         22.2  \n",
            "3                6.1        1708.0         22.2  \n",
            "4                6.1        1708.0         22.2  \n",
            "...              ...           ...          ...  \n",
            "15956            0.0          12.9          6.7  \n",
            "15957            0.0          12.9          6.7  \n",
            "15958            0.0          12.9          6.7  \n",
            "15959            0.0          12.9          6.7  \n",
            "93               0.0          12.9          6.7  \n",
            "\n",
            "[16720 rows x 10 columns]\n"
          ]
        }
      ]
    },
    {
      "cell_type": "code",
      "source": [
        "#mesorregiao.to_csv('mesorregiao.csv', sep=',', index=False, header=True)\n",
        "x.to_csv('desmatamento_municipio.csv', sep=',', index=False, header=True)"
      ],
      "metadata": {
        "id": "wnA0TfXRHUnR"
      },
      "execution_count": 74,
      "outputs": []
    }
  ]
}