{
  "nbformat": 4,
  "nbformat_minor": 0,
  "metadata": {
    "colab": {
      "name": "estado.ipynb",
      "provenance": [],
      "authorship_tag": "ABX9TyMzlKNvm5awkrau0IdQ/rW7",
      "include_colab_link": true
    },
    "kernelspec": {
      "name": "python3",
      "display_name": "Python 3"
    },
    "language_info": {
      "name": "python"
    }
  },
  "cells": [
    {
      "cell_type": "markdown",
      "metadata": {
        "id": "view-in-github",
        "colab_type": "text"
      },
      "source": [
        "<a href=\"https://colab.research.google.com/github/gustavoalcantara/geobr_python/blob/main/estado.ipynb\" target=\"_parent\"><img src=\"https://colab.research.google.com/assets/colab-badge.svg\" alt=\"Open In Colab\"/></a>"
      ]
    },
    {
      "cell_type": "code",
      "execution_count": null,
      "metadata": {
        "id": "hX0-13c5s27H"
      },
      "outputs": [],
      "source": [
        "pip install geobr"
      ]
    },
    {
      "cell_type": "code",
      "source": [
        "import geobr\n",
        "import numpy as np\n",
        "import pandas as pd"
      ],
      "metadata": {
        "id": "hzrbCQkatG6r"
      },
      "execution_count": 2,
      "outputs": []
    },
    {
      "cell_type": "code",
      "source": [
        "estado = geobr.read_state()"
      ],
      "metadata": {
        "colab": {
          "base_uri": "https://localhost:8080/"
        },
        "id": "pvDRTE7StZY8",
        "outputId": "cb017bf5-691c-4ff0-8c04-74f5bfba8b5a"
      },
      "execution_count": 3,
      "outputs": [
        {
          "output_type": "stream",
          "name": "stderr",
          "text": [
            "/usr/local/lib/python3.7/dist-packages/geopandas/array.py:93: ShapelyDeprecationWarning: __len__ for multi-part geometries is deprecated and will be removed in Shapely 2.0. Check the length of the `geoms` property instead to get the  number of parts of a multi-part geometry.\n",
            "  aout[:] = out\n"
          ]
        }
      ]
    },
    {
      "cell_type": "code",
      "source": [
        "estado"
      ],
      "metadata": {
        "id": "KjW0-sactewt"
      },
      "execution_count": null,
      "outputs": []
    },
    {
      "cell_type": "code",
      "source": [
        "estado['code_state'] = estado['code_state'].astype(np.int64)"
      ],
      "metadata": {
        "id": "9vXo3gzgBANJ"
      },
      "execution_count": 5,
      "outputs": []
    },
    {
      "cell_type": "code",
      "source": [
        "estado=estado.rename({'code_state':'id_uf', 'abbrev_state':'sigla_uf', 'geometry':'geometria'},axis='columns') "
      ],
      "metadata": {
        "id": "xbgqvq_sBI7o"
      },
      "execution_count": 7,
      "outputs": []
    },
    {
      "cell_type": "code",
      "source": [
        "estado = estado.filter(items=['id_uf', 'sigla_uf', 'geometria'])"
      ],
      "metadata": {
        "id": "IHKScHz6BZSC"
      },
      "execution_count": 8,
      "outputs": []
    },
    {
      "cell_type": "code",
      "source": [
        "estado"
      ],
      "metadata": {
        "id": "l_PeYIu-BpIb"
      },
      "execution_count": null,
      "outputs": []
    },
    {
      "cell_type": "code",
      "source": [
        "from posixpath import sep"
      ],
      "metadata": {
        "id": "BGStMiJ6BxUy"
      },
      "execution_count": 10,
      "outputs": []
    },
    {
      "cell_type": "code",
      "source": [
        "estado.to_csv('estado.csv', sep=',', index=False, header=True)"
      ],
      "metadata": {
        "id": "17iZx_rTBz14"
      },
      "execution_count": 11,
      "outputs": []
    }
  ]
}