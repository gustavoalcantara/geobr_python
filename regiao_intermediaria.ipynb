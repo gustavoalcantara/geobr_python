{
  "nbformat": 4,
  "nbformat_minor": 0,
  "metadata": {
    "colab": {
      "name": "regiao_intermediaria.ipynb",
      "provenance": [],
      "authorship_tag": "ABX9TyOhFk1Cy5ip2gdOg5EdSmp7",
      "include_colab_link": true
    },
    "kernelspec": {
      "name": "python3",
      "display_name": "Python 3"
    },
    "language_info": {
      "name": "python"
    }
  },
  "cells": [
    {
      "cell_type": "markdown",
      "metadata": {
        "id": "view-in-github",
        "colab_type": "text"
      },
      "source": [
        "<a href=\"https://colab.research.google.com/github/gustavoalcantara/geobr_python/blob/main/regiao_intermediaria.ipynb\" target=\"_parent\"><img src=\"https://colab.research.google.com/assets/colab-badge.svg\" alt=\"Open In Colab\"/></a>"
      ]
    },
    {
      "cell_type": "code",
      "execution_count": null,
      "metadata": {
        "id": "hyc7Pz0_zsgr"
      },
      "outputs": [],
      "source": [
        "pip install geobr"
      ]
    },
    {
      "cell_type": "code",
      "source": [
        "import geobr\n",
        "import pandas as pd\n",
        "import numpy as np\n",
        "from posixpath import sep"
      ],
      "metadata": {
        "id": "8APUHQBL3EMY"
      },
      "execution_count": 14,
      "outputs": []
    },
    {
      "cell_type": "code",
      "source": [
        "x = geobr.read_intermediate_region()"
      ],
      "metadata": {
        "id": "66bYWGlJ3KVN"
      },
      "execution_count": 15,
      "outputs": []
    },
    {
      "cell_type": "code",
      "source": [
        "x"
      ],
      "metadata": {
        "id": "UrjTpq9o3rJ2"
      },
      "execution_count": null,
      "outputs": []
    },
    {
      "cell_type": "code",
      "source": [
        "x['code_state'] = x['code_state'].astype(np.int64)\n",
        "x['code_intermediate'] = x['code_intermediate'].astype(np.int64)"
      ],
      "metadata": {
        "id": "k-91mJml3TI0"
      },
      "execution_count": 16,
      "outputs": []
    },
    {
      "cell_type": "code",
      "source": [
        "x=x.rename({'code_state':'id_uf', 'abbrev_state':'sigla_uf', 'code_intermediate':'id_regiao_intermediaria','geometry':'geometria'}, axis='columns')"
      ],
      "metadata": {
        "id": "Wcb7M4bi3v-_"
      },
      "execution_count": 18,
      "outputs": []
    },
    {
      "cell_type": "code",
      "source": [
        "x"
      ],
      "metadata": {
        "id": "VD6ZUX3N9F9Q"
      },
      "execution_count": null,
      "outputs": []
    },
    {
      "cell_type": "code",
      "source": [
        "x=x.filter(items=['id_uf', 'sigla_uf', 'id_regiao_intermediaria', 'geometria'])"
      ],
      "metadata": {
        "id": "lkp_p2uG4Xtf"
      },
      "execution_count": 20,
      "outputs": []
    },
    {
      "cell_type": "code",
      "source": [
        "x"
      ],
      "metadata": {
        "id": "veh8IVXD9ZLn"
      },
      "execution_count": null,
      "outputs": []
    },
    {
      "cell_type": "code",
      "source": [
        "x.to_csv('regiao_intermediaria.csv', sep=',', index=False, header=True)"
      ],
      "metadata": {
        "id": "1pN8lkXl4fSQ"
      },
      "execution_count": 22,
      "outputs": []
    },
    {
      "cell_type": "code",
      "source": [
        "x"
      ],
      "metadata": {
        "id": "JHe3E9PW81pX"
      },
      "execution_count": null,
      "outputs": []
    }
  ]
}