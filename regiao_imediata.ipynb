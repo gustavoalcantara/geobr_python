{
  "nbformat": 4,
  "nbformat_minor": 0,
  "metadata": {
    "colab": {
      "name": "regiao_imediata.ipynb",
      "provenance": [],
      "authorship_tag": "ABX9TyM/SNoQNoN0FA0xFEMxExUt",
      "include_colab_link": true
    },
    "kernelspec": {
      "name": "python3",
      "display_name": "Python 3"
    },
    "language_info": {
      "name": "python"
    }
  },
  "cells": [
    {
      "cell_type": "markdown",
      "metadata": {
        "id": "view-in-github",
        "colab_type": "text"
      },
      "source": [
        "<a href=\"https://colab.research.google.com/github/gustavoalcantara/geobr_python/blob/main/regiao_imediata.ipynb\" target=\"_parent\"><img src=\"https://colab.research.google.com/assets/colab-badge.svg\" alt=\"Open In Colab\"/></a>"
      ]
    },
    {
      "cell_type": "code",
      "execution_count": null,
      "metadata": {
        "id": "i92JyPTzudpo"
      },
      "outputs": [],
      "source": [
        "pip install geobr"
      ]
    },
    {
      "cell_type": "code",
      "source": [
        "import geobr\n",
        "import pandas as pd\n",
        "import numpy as np"
      ],
      "metadata": {
        "id": "dCvSZeSJuwg_"
      },
      "execution_count": 2,
      "outputs": []
    },
    {
      "cell_type": "code",
      "source": [
        "regiao_imediata = geobr.read_immediate_region()"
      ],
      "metadata": {
        "colab": {
          "base_uri": "https://localhost:8080/"
        },
        "id": "FvWFE6QJvCLY",
        "outputId": "f6a406e9-9901-4c4e-8448-7a2088b77d61"
      },
      "execution_count": 3,
      "outputs": [
        {
          "output_type": "stream",
          "name": "stderr",
          "text": [
            "/usr/local/lib/python3.7/dist-packages/geopandas/array.py:93: ShapelyDeprecationWarning: __len__ for multi-part geometries is deprecated and will be removed in Shapely 2.0. Check the length of the `geoms` property instead to get the  number of parts of a multi-part geometry.\n",
            "  aout[:] = out\n"
          ]
        }
      ]
    },
    {
      "cell_type": "code",
      "source": [
        "regiao_imediata"
      ],
      "metadata": {
        "id": "8PowC8aMvHsu"
      },
      "execution_count": null,
      "outputs": []
    },
    {
      "cell_type": "code",
      "source": [
        "regiao_imediata['code_state'] = regiao_imediata['code_state'].astype(np.int64)\n",
        "regiao_imediata['code_immediate'] = regiao_imediata['code_immediate'].astype(np.int64)"
      ],
      "metadata": {
        "id": "CRAU5wYhvMiH"
      },
      "execution_count": 7,
      "outputs": []
    },
    {
      "cell_type": "code",
      "source": [
        "regiao_imediata=regiao_imediata.rename({'code_state':'id_uf', 'abbrev_state':'sigla_uf', 'code_immediate':'id_regiao_imediata','geometry':'geometria'},axis='columns')"
      ],
      "metadata": {
        "id": "LqCwB32uvf14"
      },
      "execution_count": 8,
      "outputs": []
    },
    {
      "cell_type": "code",
      "source": [
        "regiao_imediata=regiao_imediata.filter(items=['id_uf', 'sigla_uf', 'id_regiao_imediata', 'geometria'])"
      ],
      "metadata": {
        "id": "AGFvyxTSvuiY"
      },
      "execution_count": 9,
      "outputs": []
    },
    {
      "cell_type": "code",
      "source": [
        "from posixpath import sep"
      ],
      "metadata": {
        "id": "q733-ti8v_n3"
      },
      "execution_count": 10,
      "outputs": []
    },
    {
      "cell_type": "code",
      "source": [
        "regiao_imediata.to_csv('regiao_imediata.csv', sep=',', index=False, header=True)"
      ],
      "metadata": {
        "id": "wlLtWcTEwEI_"
      },
      "execution_count": 11,
      "outputs": []
    },
    {
      "cell_type": "code",
      "source": [
        "regiao_imediata"
      ],
      "metadata": {
        "colab": {
          "base_uri": "https://localhost:8080/",
          "height": 424
        },
        "id": "_jiQsM9307Xp",
        "outputId": "d79650c7-487a-479d-e738-183523dc7873"
      },
      "execution_count": 12,
      "outputs": [
        {
          "output_type": "execute_result",
          "data": {
            "text/plain": [
              "     id_uf sigla_uf  id_regiao_imediata  \\\n",
              "0       11       RO              110001   \n",
              "1       11       RO              110002   \n",
              "2       11       RO              110003   \n",
              "3       11       RO              110004   \n",
              "4       11       RO              110005   \n",
              "..     ...      ...                 ...   \n",
              "505     52       GO              520019   \n",
              "506     52       GO              520020   \n",
              "507     52       GO              520021   \n",
              "508     52       GO              520022   \n",
              "509     53       DF              530001   \n",
              "\n",
              "                                             geometria  \n",
              "0    MULTIPOLYGON (((-63.32721 -7.97672, -62.86662 ...  \n",
              "1    MULTIPOLYGON (((-62.48851 -8.73008, -62.48411 ...  \n",
              "2    MULTIPOLYGON (((-62.22055 -8.59088, -62.21053 ...  \n",
              "3    MULTIPOLYGON (((-61.57450 -9.72063, -61.57157 ...  \n",
              "4    MULTIPOLYGON (((-61.42731 -10.98755, -61.00059...  \n",
              "..                                                 ...  \n",
              "505  MULTIPOLYGON (((-48.36389 -15.81896, -48.35204...  \n",
              "506  MULTIPOLYGON (((-47.14176 -14.53552, -47.13290...  \n",
              "507  MULTIPOLYGON (((-46.41484 -12.82778, -46.41147...  \n",
              "508  MULTIPOLYGON (((-47.63129 -13.10818, -47.62762...  \n",
              "509  MULTIPOLYGON (((-48.23248 -15.78360, -48.23252...  \n",
              "\n",
              "[510 rows x 4 columns]"
            ],
            "text/html": [
              "\n",
              "  <div id=\"df-9c115f54-17fe-4151-85ef-ffd6fdf1e958\">\n",
              "    <div class=\"colab-df-container\">\n",
              "      <div>\n",
              "<style scoped>\n",
              "    .dataframe tbody tr th:only-of-type {\n",
              "        vertical-align: middle;\n",
              "    }\n",
              "\n",
              "    .dataframe tbody tr th {\n",
              "        vertical-align: top;\n",
              "    }\n",
              "\n",
              "    .dataframe thead th {\n",
              "        text-align: right;\n",
              "    }\n",
              "</style>\n",
              "<table border=\"1\" class=\"dataframe\">\n",
              "  <thead>\n",
              "    <tr style=\"text-align: right;\">\n",
              "      <th></th>\n",
              "      <th>id_uf</th>\n",
              "      <th>sigla_uf</th>\n",
              "      <th>id_regiao_imediata</th>\n",
              "      <th>geometria</th>\n",
              "    </tr>\n",
              "  </thead>\n",
              "  <tbody>\n",
              "    <tr>\n",
              "      <th>0</th>\n",
              "      <td>11</td>\n",
              "      <td>RO</td>\n",
              "      <td>110001</td>\n",
              "      <td>MULTIPOLYGON (((-63.32721 -7.97672, -62.86662 ...</td>\n",
              "    </tr>\n",
              "    <tr>\n",
              "      <th>1</th>\n",
              "      <td>11</td>\n",
              "      <td>RO</td>\n",
              "      <td>110002</td>\n",
              "      <td>MULTIPOLYGON (((-62.48851 -8.73008, -62.48411 ...</td>\n",
              "    </tr>\n",
              "    <tr>\n",
              "      <th>2</th>\n",
              "      <td>11</td>\n",
              "      <td>RO</td>\n",
              "      <td>110003</td>\n",
              "      <td>MULTIPOLYGON (((-62.22055 -8.59088, -62.21053 ...</td>\n",
              "    </tr>\n",
              "    <tr>\n",
              "      <th>3</th>\n",
              "      <td>11</td>\n",
              "      <td>RO</td>\n",
              "      <td>110004</td>\n",
              "      <td>MULTIPOLYGON (((-61.57450 -9.72063, -61.57157 ...</td>\n",
              "    </tr>\n",
              "    <tr>\n",
              "      <th>4</th>\n",
              "      <td>11</td>\n",
              "      <td>RO</td>\n",
              "      <td>110005</td>\n",
              "      <td>MULTIPOLYGON (((-61.42731 -10.98755, -61.00059...</td>\n",
              "    </tr>\n",
              "    <tr>\n",
              "      <th>...</th>\n",
              "      <td>...</td>\n",
              "      <td>...</td>\n",
              "      <td>...</td>\n",
              "      <td>...</td>\n",
              "    </tr>\n",
              "    <tr>\n",
              "      <th>505</th>\n",
              "      <td>52</td>\n",
              "      <td>GO</td>\n",
              "      <td>520019</td>\n",
              "      <td>MULTIPOLYGON (((-48.36389 -15.81896, -48.35204...</td>\n",
              "    </tr>\n",
              "    <tr>\n",
              "      <th>506</th>\n",
              "      <td>52</td>\n",
              "      <td>GO</td>\n",
              "      <td>520020</td>\n",
              "      <td>MULTIPOLYGON (((-47.14176 -14.53552, -47.13290...</td>\n",
              "    </tr>\n",
              "    <tr>\n",
              "      <th>507</th>\n",
              "      <td>52</td>\n",
              "      <td>GO</td>\n",
              "      <td>520021</td>\n",
              "      <td>MULTIPOLYGON (((-46.41484 -12.82778, -46.41147...</td>\n",
              "    </tr>\n",
              "    <tr>\n",
              "      <th>508</th>\n",
              "      <td>52</td>\n",
              "      <td>GO</td>\n",
              "      <td>520022</td>\n",
              "      <td>MULTIPOLYGON (((-47.63129 -13.10818, -47.62762...</td>\n",
              "    </tr>\n",
              "    <tr>\n",
              "      <th>509</th>\n",
              "      <td>53</td>\n",
              "      <td>DF</td>\n",
              "      <td>530001</td>\n",
              "      <td>MULTIPOLYGON (((-48.23248 -15.78360, -48.23252...</td>\n",
              "    </tr>\n",
              "  </tbody>\n",
              "</table>\n",
              "<p>510 rows × 4 columns</p>\n",
              "</div>\n",
              "      <button class=\"colab-df-convert\" onclick=\"convertToInteractive('df-9c115f54-17fe-4151-85ef-ffd6fdf1e958')\"\n",
              "              title=\"Convert this dataframe to an interactive table.\"\n",
              "              style=\"display:none;\">\n",
              "        \n",
              "  <svg xmlns=\"http://www.w3.org/2000/svg\" height=\"24px\"viewBox=\"0 0 24 24\"\n",
              "       width=\"24px\">\n",
              "    <path d=\"M0 0h24v24H0V0z\" fill=\"none\"/>\n",
              "    <path d=\"M18.56 5.44l.94 2.06.94-2.06 2.06-.94-2.06-.94-.94-2.06-.94 2.06-2.06.94zm-11 1L8.5 8.5l.94-2.06 2.06-.94-2.06-.94L8.5 2.5l-.94 2.06-2.06.94zm10 10l.94 2.06.94-2.06 2.06-.94-2.06-.94-.94-2.06-.94 2.06-2.06.94z\"/><path d=\"M17.41 7.96l-1.37-1.37c-.4-.4-.92-.59-1.43-.59-.52 0-1.04.2-1.43.59L10.3 9.45l-7.72 7.72c-.78.78-.78 2.05 0 2.83L4 21.41c.39.39.9.59 1.41.59.51 0 1.02-.2 1.41-.59l7.78-7.78 2.81-2.81c.8-.78.8-2.07 0-2.86zM5.41 20L4 18.59l7.72-7.72 1.47 1.35L5.41 20z\"/>\n",
              "  </svg>\n",
              "      </button>\n",
              "      \n",
              "  <style>\n",
              "    .colab-df-container {\n",
              "      display:flex;\n",
              "      flex-wrap:wrap;\n",
              "      gap: 12px;\n",
              "    }\n",
              "\n",
              "    .colab-df-convert {\n",
              "      background-color: #E8F0FE;\n",
              "      border: none;\n",
              "      border-radius: 50%;\n",
              "      cursor: pointer;\n",
              "      display: none;\n",
              "      fill: #1967D2;\n",
              "      height: 32px;\n",
              "      padding: 0 0 0 0;\n",
              "      width: 32px;\n",
              "    }\n",
              "\n",
              "    .colab-df-convert:hover {\n",
              "      background-color: #E2EBFA;\n",
              "      box-shadow: 0px 1px 2px rgba(60, 64, 67, 0.3), 0px 1px 3px 1px rgba(60, 64, 67, 0.15);\n",
              "      fill: #174EA6;\n",
              "    }\n",
              "\n",
              "    [theme=dark] .colab-df-convert {\n",
              "      background-color: #3B4455;\n",
              "      fill: #D2E3FC;\n",
              "    }\n",
              "\n",
              "    [theme=dark] .colab-df-convert:hover {\n",
              "      background-color: #434B5C;\n",
              "      box-shadow: 0px 1px 3px 1px rgba(0, 0, 0, 0.15);\n",
              "      filter: drop-shadow(0px 1px 2px rgba(0, 0, 0, 0.3));\n",
              "      fill: #FFFFFF;\n",
              "    }\n",
              "  </style>\n",
              "\n",
              "      <script>\n",
              "        const buttonEl =\n",
              "          document.querySelector('#df-9c115f54-17fe-4151-85ef-ffd6fdf1e958 button.colab-df-convert');\n",
              "        buttonEl.style.display =\n",
              "          google.colab.kernel.accessAllowed ? 'block' : 'none';\n",
              "\n",
              "        async function convertToInteractive(key) {\n",
              "          const element = document.querySelector('#df-9c115f54-17fe-4151-85ef-ffd6fdf1e958');\n",
              "          const dataTable =\n",
              "            await google.colab.kernel.invokeFunction('convertToInteractive',\n",
              "                                                     [key], {});\n",
              "          if (!dataTable) return;\n",
              "\n",
              "          const docLinkHtml = 'Like what you see? Visit the ' +\n",
              "            '<a target=\"_blank\" href=https://colab.research.google.com/notebooks/data_table.ipynb>data table notebook</a>'\n",
              "            + ' to learn more about interactive tables.';\n",
              "          element.innerHTML = '';\n",
              "          dataTable['output_type'] = 'display_data';\n",
              "          await google.colab.output.renderOutput(dataTable, element);\n",
              "          const docLink = document.createElement('div');\n",
              "          docLink.innerHTML = docLinkHtml;\n",
              "          element.appendChild(docLink);\n",
              "        }\n",
              "      </script>\n",
              "    </div>\n",
              "  </div>\n",
              "  "
            ]
          },
          "metadata": {},
          "execution_count": 12
        }
      ]
    }
  ]
}