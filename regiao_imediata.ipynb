{
  "nbformat": 4,
  "nbformat_minor": 0,
  "metadata": {
    "colab": {
      "provenance": [],
      "authorship_tag": "ABX9TyNlreMMh7ZcqghS1FZUCTPW",
      "include_colab_link": true
    },
    "kernelspec": {
      "name": "python3",
      "display_name": "Python 3"
    },
    "language_info": {
      "name": "python"
    }
  },
  "cells": [
    {
      "cell_type": "markdown",
      "metadata": {
        "id": "view-in-github",
        "colab_type": "text"
      },
      "source": [
        "<a href=\"https://colab.research.google.com/github/gustavoalcantara/geobr_python/blob/main/regiao_imediata.ipynb\" target=\"_parent\"><img src=\"https://colab.research.google.com/assets/colab-badge.svg\" alt=\"Open In Colab\"/></a>"
      ]
    },
    {
      "cell_type": "code",
      "execution_count": null,
      "metadata": {
        "id": "i92JyPTzudpo"
      },
      "outputs": [],
      "source": [
        "pip install geobr"
      ]
    },
    {
      "cell_type": "code",
      "source": [
        "import geobr\n",
        "import pandas as pd\n",
        "import numpy as np\n",
        "from posixpath import sep"
      ],
      "metadata": {
        "id": "dCvSZeSJuwg_"
      },
      "execution_count": null,
      "outputs": []
    },
    {
      "cell_type": "code",
      "source": [
        "regiao_imediata = geobr.read_immediate_region()"
      ],
      "metadata": {
        "colab": {
          "base_uri": "https://localhost:8080/"
        },
        "id": "FvWFE6QJvCLY",
        "outputId": "f6a406e9-9901-4c4e-8448-7a2088b77d61"
      },
      "execution_count": null,
      "outputs": [
        {
          "output_type": "stream",
          "name": "stderr",
          "text": [
            "/usr/local/lib/python3.7/dist-packages/geopandas/array.py:93: ShapelyDeprecationWarning: __len__ for multi-part geometries is deprecated and will be removed in Shapely 2.0. Check the length of the `geoms` property instead to get the  number of parts of a multi-part geometry.\n",
            "  aout[:] = out\n"
          ]
        }
      ]
    },
    {
      "cell_type": "code",
      "source": [
        "regiao_imediata['code_state'] = regiao_imediata['code_state'].astype(np.int64)\n",
        "regiao_imediata['code_immediate'] = regiao_imediata['code_immediate'].astype(np.int64)"
      ],
      "metadata": {
        "id": "CRAU5wYhvMiH"
      },
      "execution_count": null,
      "outputs": []
    },
    {
      "cell_type": "code",
      "source": [
        "regiao_imediata=regiao_imediata.rename({'code_state':'id_uf', 'abbrev_state':'sigla_uf', 'code_immediate':'id_regiao_imediata','geometry':'geometria'},axis='columns')"
      ],
      "metadata": {
        "id": "LqCwB32uvf14"
      },
      "execution_count": null,
      "outputs": []
    },
    {
      "cell_type": "code",
      "source": [
        "regiao_imediata=regiao_imediata.filter(items=['id_uf', 'sigla_uf', 'id_regiao_imediata', 'geometria'])"
      ],
      "metadata": {
        "id": "AGFvyxTSvuiY"
      },
      "execution_count": null,
      "outputs": []
    },
    {
      "cell_type": "code",
      "source": [
        "regiao_imediata.to_csv('regiao_imediata.csv', sep=',', index=False, header=True)"
      ],
      "metadata": {
        "id": "wlLtWcTEwEI_"
      },
      "execution_count": null,
      "outputs": []
    }
  ]
}