{
  "nbformat": 4,
  "nbformat_minor": 0,
  "metadata": {
    "colab": {
      "provenance": [],
      "authorship_tag": "ABX9TyPCRIdkG4IoipvQQohMz4GY",
      "include_colab_link": true
    },
    "kernelspec": {
      "name": "python3",
      "display_name": "Python 3"
    },
    "language_info": {
      "name": "python"
    }
  },
  "cells": [
    {
      "cell_type": "markdown",
      "metadata": {
        "id": "view-in-github",
        "colab_type": "text"
      },
      "source": [
        "<a href=\"https://colab.research.google.com/github/gustavoalcantara/geobr_python/blob/main/mesorregiao.ipynb\" target=\"_parent\"><img src=\"https://colab.research.google.com/assets/colab-badge.svg\" alt=\"Open In Colab\"/></a>"
      ]
    },
    {
      "cell_type": "code",
      "execution_count": null,
      "metadata": {
        "id": "kufEwVXehiY5"
      },
      "outputs": [],
      "source": [
        "pip install geobr"
      ]
    },
    {
      "cell_type": "code",
      "source": [
        "import geobr\n",
        "import pandas as pd\n",
        "import numpy as np\n",
        "from posixpath import sep"
      ],
      "metadata": {
        "id": "LAtqfXIgh6sZ"
      },
      "execution_count": null,
      "outputs": []
    },
    {
      "cell_type": "code",
      "source": [
        "mesorregiao = geobr.read_meso_region()"
      ],
      "metadata": {
        "id": "oOWBS8jLh-qA"
      },
      "execution_count": null,
      "outputs": []
    },
    {
      "cell_type": "code",
      "source": [
        "mesorregiao['code_state'] = mesorregiao['code_state'].astype(np.int64)\n",
        "mesorregiao['code_meso'] = mesorregiao['code_meso'].astype(np.int64)"
      ],
      "metadata": {
        "id": "rdvQAVODiJmI"
      },
      "execution_count": null,
      "outputs": []
    },
    {
      "cell_type": "code",
      "source": [
        "#micro=micro.rename({'code_state':'id_uf', 'abbrev_state':'sigla_uf', 'code_micro':'id_microrregiao','geometry':'geometria', 'name_micro': 'nome_microrregiao'},axis='columns')\n",
        "mesorregiao=mesorregiao.rename({'code_state':'id_uf', 'abbrev_state':'sigla_uf', 'code_meso':'id_mesorregiao','geometry':'geometria'}, axis='columns')"
      ],
      "metadata": {
        "id": "1GYA3n1gjV3i"
      },
      "execution_count": null,
      "outputs": []
    },
    {
      "cell_type": "code",
      "source": [
        "mesorregiao=mesorregiao.filter(items=['id_uf', 'sigla_uf', 'id_mesorregiao', 'geometria'])    "
      ],
      "metadata": {
        "id": "HlTMJb8pjrMj"
      },
      "execution_count": null,
      "outputs": []
    },
    {
      "cell_type": "code",
      "source": [
        "mesorregiao.to_csv('mesorregiao.csv', sep=',', index=False, header=True)"
      ],
      "metadata": {
        "id": "vNE_0Gokms1J"
      },
      "execution_count": null,
      "outputs": []
    }
  ]
}